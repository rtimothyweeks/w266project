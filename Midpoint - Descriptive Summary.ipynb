{
 "cells": [
  {
   "cell_type": "code",
   "execution_count": 2,
   "metadata": {
    "collapsed": false
   },
   "outputs": [],
   "source": [
    "import xml.etree.ElementTree as ET\n",
    "from collections import defaultdict"
   ]
  },
  {
   "cell_type": "code",
   "execution_count": 3,
   "metadata": {
    "collapsed": true
   },
   "outputs": [],
   "source": [
    "\n",
    "CORPUS_PATH = 'C:\\\\Users\\\\timothy.weeks\\\\Documents\\\\Education\\\\w266\\\\Project\\\\data\\\\QUAERO_BioC\\\\corpus'\n",
    "ENVS = ['train','test','dev']\n",
    "FILES = ['EMEA','MEDLINE']\n",
    "\n",
    "def get_mono_bigram_counts(texts):\n",
    "    count_dict = defaultdict(lambda: 0)\n",
    "    for text in texts:\n",
    "        words = text.split(' ')\n",
    "        word0 = None\n",
    "        word1 = None\n",
    "        for word in words:\n",
    "#             word0 = word1 #only monograms for now\n",
    "            word1 = word\n",
    "            count_dict[word1] += 1\n",
    "            if word0 is not None:\n",
    "                count_dict[(word0, word1)] += 1\n",
    "    return count_dict"
   ]
  },
  {
   "cell_type": "code",
   "execution_count": 36,
   "metadata": {
    "collapsed": false
   },
   "outputs": [
    {
     "name": "stdout",
     "output_type": "stream",
     "text": [
      "Current Environment: test\n",
      "\n",
      "--------------------------------------------------\n",
      "EMEA\n",
      "--------------------------------------------------\n",
      "15 Documents\n",
      "Avg. Document Length: 842.0 words\n",
      "Total Vocab Size: 1976 words\n",
      "Avg Word Frequency: 6.0\n",
      "Multi-appearance Words: 50.0%\n",
      "Annotation-Start Vocab Size: 659 words\n",
      "--------------------------------------------------\n",
      "--------------------------------------------------\n",
      "MEDLINE\n",
      "--------------------------------------------------\n",
      "832 Documents\n",
      "Avg. Document Length: 13.0 words\n",
      "Total Vocab Size: 3979 words\n",
      "Avg Word Frequency: 2.0\n",
      "Multi-appearance Words: 21.0%\n",
      "Annotation-Start Vocab Size: 2331 words\n",
      "--------------------------------------------------\n"
     ]
    }
   ],
   "source": [
    "for env in ENVS:\n",
    "    print 'Current Environment: {0}'.format(env)\n",
    "    print ''\n",
    "    for file in FILES:\n",
    "        file_path = CORPUS_PATH + '\\\\{0}\\\\{1}_{0}_bioc'.format(env, file)\n",
    "        root = ET.parse(file_path).getroot()\n",
    "        print '-'*50\n",
    "        print file\n",
    "        print '-'*50 \n",
    "\n",
    "        doc_texts = [doc.find('passage').find('text').text for doc in root.iter('document')]\n",
    "        num_of_docs = len(doc_texts)\n",
    "        doc_lengths = [len(doc.split(' ')) for doc in doc_texts]\n",
    "        doc_counts = get_mono_bigram_counts(doc_texts)\n",
    "        doc_vocab = len(doc_counts)\n",
    "        avg_word_freq = sum(doc_counts.values()) / doc_vocab\n",
    "        multi_count_words = {k:v for (k, v) in doc_counts.items() if v > 1}\n",
    "\n",
    "        annotations = [doc.find('passage').findall('annotation') for doc in root.iter('document')]\n",
    "        annotations = [item for sublist in annotations for item in sublist]\n",
    "#         find first word of annotation\n",
    "        ann_text = [' '.join(ann.find('text').text.split(' ')[:1]) for ann in annotations]\n",
    "#       find all text of annotations\n",
    "    #     ann_text = [ann.find('text').text for ann in annotations]\n",
    "\n",
    "        ann_counts = get_mono_bigram_counts(ann_text)\n",
    "\n",
    "        print '{0} Documents'.format(num_of_docs)\n",
    "        print 'Avg. Document Length: {0} words'.format(round(sum(doc_lengths) / num_of_docs))\n",
    "        print 'Total Vocab Size: {0} words'.format(len(doc_counts))\n",
    "        print 'Avg Word Frequency: {0}'.format(round(avg_word_freq, 2))\n",
    "        print 'Multi-appearance Words: {0}%'.format(round(len(multi_count_words) * 100/ doc_vocab, 2) )\n",
    "        print 'Annotation-Start Vocab Size: {0} words'.format(len(ann_counts))\n",
    "        print'-'*50"
   ]
  },
  {
   "cell_type": "code",
   "execution_count": null,
   "metadata": {
    "collapsed": true
   },
   "outputs": [],
   "source": []
  }
 ],
 "metadata": {
  "kernelspec": {
   "display_name": "Python [conda env:w261a]",
   "language": "python",
   "name": "conda-env-w261a-py"
  },
  "language_info": {
   "codemirror_mode": {
    "name": "ipython",
    "version": 2
   },
   "file_extension": ".py",
   "mimetype": "text/x-python",
   "name": "python",
   "nbconvert_exporter": "python",
   "pygments_lexer": "ipython2",
   "version": "2.7.12"
  }
 },
 "nbformat": 4,
 "nbformat_minor": 2
}
