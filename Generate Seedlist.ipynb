{
 "cells": [
  {
   "cell_type": "code",
   "execution_count": 1,
   "metadata": {
    "collapsed": false
   },
   "outputs": [],
   "source": [
    "import xml.etree.ElementTree as ET\n",
    "import os\n",
    "# import numpy as np\n",
    "# import statistics\n",
    "from collections import defaultdict"
   ]
  },
  {
   "cell_type": "code",
   "execution_count": null,
   "metadata": {
    "collapsed": true
   },
   "outputs": [],
   "source": [
    "CORPUS_PATH = 'C:\\\\Users\\\\timothy.weeks\\\\Documents\\\\Education\\\\w266\\\\Project\\\\data\\\\QUAERO_BioC\\\\corpus'\n",
    "ENVS = ['train','test','dev']\n",
    "FILES = ['EMEA','MEDLINE']\n",
    "\n"
   ]
  },
  {
   "cell_type": "code",
   "execution_count": null,
   "metadata": {
    "collapsed": false
   },
   "outputs": [],
   "source": [
    "env = ENVS[1]\n",
    "target_seeds = {}\n",
    "print 'Current Environment: {0}'.format(env)\n",
    "print ''\n",
    "for file in FILES[:1]:\n",
    "    file_path = CORPUS_PATH + '\\\\{0}\\\\{1}_{0}_bioc'.format(env, file)\n",
    "    root = ET.parse(file_path).getroot()\n",
    "    print '-'*50\n",
    "    print file\n",
    "    print '-'*50 \n",
    "    \n",
    "    doc_texts = [doc.find('passage').find('text').text for doc in root.iter('document')]\n",
    "    \n",
    "    annotations = [doc.find('passage').findall('annotation') for doc in root.iter('document')]\n",
    "    annotations = [item for sublist in annotations for item in sublist]\n",
    "    \n",
    "    for ann in annotations:\n",
    "        target = ann.findall('infon')[1].text\n",
    "        word = ann.find('text').text\n",
    "        if target in target_seeds:\n",
    "            if word in target_seeds[target]:\n",
    "                continue\n",
    "            else:\n",
    "                target_seeds[target].append(word)\n",
    "        else:\n",
    "            target_seeds[target] = [word]"
   ]
  },
  {
   "cell_type": "code",
   "execution_count": null,
   "metadata": {
    "collapsed": false
   },
   "outputs": [],
   "source": [
    "for target in target_seeds:\n",
    "    target_file = open('seedlists/{0}.txt'.format(target), 'w')\n",
    "    write_str = '\\n'.join(target_seeds[target])\n",
    "    target_file.write(write_str.encode('UTF-8'))\n",
    "    target_file.close()"
   ]
  },
  {
   "cell_type": "code",
   "execution_count": null,
   "metadata": {
    "collapsed": true
   },
   "outputs": [],
   "source": [
    "input_file = open('{0}_input.txt'.format(file), 'w')\n",
    "write_str = ' '.join(doc_texts)\n",
    "input_file.write(write_str.encode('UTF-8'))\n",
    "input_file.close()"
   ]
  },
  {
   "cell_type": "code",
   "execution_count": 5,
   "metadata": {
    "collapsed": false
   },
   "outputs": [
    {
     "name": "stderr",
     "output_type": "stream",
     "text": [
      "'python.version' is not recognized as an internal or external command,\n",
      "operable program or batch file.\n"
     ]
    }
   ],
   "source": [
    "! activate w261a\n",
    "! python.version()"
   ]
  },
  {
   "cell_type": "code",
   "execution_count": 4,
   "metadata": {
    "collapsed": false
   },
   "outputs": [
    {
     "name": "stderr",
     "output_type": "stream",
     "text": [
      "  File \"medical-ner/rnn-ner/ml_corpus_annotator.py\", line 85\n",
      "    print \"Using ID: {} for {}\".format(_id+1,seed_list_path)\n",
      "                              ^\n",
      "SyntaxError: invalid syntax\n"
     ]
    }
   ],
   "source": [
    "! activate w261a\n",
    "! python medical-ner/rnn-ner/ml_corpus_annotator.py EMEA_input.text /seedlists/"
   ]
  },
  {
   "cell_type": "code",
   "execution_count": null,
   "metadata": {
    "collapsed": false
   },
   "outputs": [],
   "source": [
    "l = [u\"(\", u\"[\", u\"{\", u\"<\", u'\"', u\"'\", u\"`\", u\"´\", \n",
    "     u\")\", u\"]\", u\"}\", u\">\", u'\"', u\"'\", u\"`\", u\"´\", u\",\", u\".\", u\"=\", u\"?\", u\"!\"]\n",
    "\n",
    "x = []\n",
    "for ann in ann_text:\n",
    "    for ch in l:\n",
    "        if ch in ann:\n",
    "            x.append(ann)\n",
    "            continue\n",
    "x"
   ]
  },
  {
   "cell_type": "code",
   "execution_count": null,
   "metadata": {
    "collapsed": false
   },
   "outputs": [],
   "source": [
    "import os\n",
    "seed_path = os.getcwd() + '\\\\seedlists'\n",
    "for _id,seed_list_path in enumerate(os.listdir(seed_path)):\n",
    "    print os.path.splitext(seed_list_path)[0]+','\n",
    "    print \"Using ID: {} for {}\".format(_id+1,seed_list_path)"
   ]
  },
  {
   "cell_type": "code",
   "execution_count": null,
   "metadata": {
    "collapsed": true
   },
   "outputs": [],
   "source": []
  }
 ],
 "metadata": {
  "kernelspec": {
   "display_name": "Python [conda env:w261a]",
   "language": "python",
   "name": "conda-env-w261a-py"
  },
  "language_info": {
   "codemirror_mode": {
    "name": "ipython",
    "version": 2
   },
   "file_extension": ".py",
   "mimetype": "text/x-python",
   "name": "python",
   "nbconvert_exporter": "python",
   "pygments_lexer": "ipython2",
   "version": "2.7.12"
  }
 },
 "nbformat": 4,
 "nbformat_minor": 2
}
