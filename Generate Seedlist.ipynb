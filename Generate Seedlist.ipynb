{
 "cells": [
  {
   "cell_type": "code",
   "execution_count": 1,
   "metadata": {
    "collapsed": false
   },
   "outputs": [],
   "source": [
    "import xml.etree.ElementTree as ET\n",
    "import os\n",
    "from collections import defaultdict"
   ]
  },
  {
   "cell_type": "code",
   "execution_count": 6,
   "metadata": {
    "collapsed": true
   },
   "outputs": [],
   "source": [
    "CORPUS_PATH = os.getcwd() + '/QUAERO_BioC/corpus'\n",
    "ENVS = ['train','test','dev']\n",
    "FILES = ['EMEA','MEDLINE']"
   ]
  },
  {
   "cell_type": "code",
   "execution_count": 7,
   "metadata": {
    "collapsed": false
   },
   "outputs": [
    {
     "name": "stdout",
     "output_type": "stream",
     "text": [
      "Current Environment: test\n",
      "\n",
      "--------------------------------------------------\n",
      "EMEA\n",
      "--------------------------------------------------\n"
     ]
    }
   ],
   "source": [
    "env = 'train'\n",
    "target_seeds = {}\n",
    "print 'Current Environment: {0}'.format(env)\n",
    "print ''\n",
    "for file in FILES[:1]:\n",
    "    file_path = CORPUS_PATH + '/{0}/{1}_{0}_bioc'.format(env, file)\n",
    "    root = ET.parse(file_path).getroot()\n",
    "    annotations = [doc.find('passage').findall('annotation') for doc in root.iter('document')]\n",
    "    annotations = [item for sublist in annotations for item in sublist]\n",
    "    \n",
    "    for ann in annotations:\n",
    "        target = ann.findall('infon')[1].text\n",
    "        word = ann.find('text').text\n",
    "        if target in target_seeds:\n",
    "            if word in target_seeds[target]:\n",
    "                continue\n",
    "            else:\n",
    "                target_seeds[target].append(word)\n",
    "        else:\n",
    "            target_seeds[target] = [word]\n",
    "\n",
    "seedlist_path = os.getcwd()+'/seedlists/'\n",
    "if not os.path.exists(seedlist_path):\n",
    "    os.makedirs(seedlist_path)\n",
    "\n",
    "for target in target_seeds:\n",
    "    target_file = open(seedlist_path+ '/{0}.txt'.format(target), 'w')\n",
    "    write_str = '\\n'.join(target_seeds[target])\n",
    "    target_file.write(write_str.encode('UTF-8'))\n",
    "    target_file.close()\n",
    "\n",
    "input_file = open('{0}_input.txt'.format(file), 'w')\n",
    "write_str = ' '.join(doc_texts)\n",
    "input_file.write(write_str.encode('UTF-8'))\n",
    "input_file.close()"
   ]
  },
  {
   "cell_type": "code",
   "execution_count": null,
   "metadata": {
    "collapsed": true
   },
   "outputs": [],
   "source": []
  }
 ],
 "metadata": {
  "anaconda-cloud": {},
  "kernelspec": {
   "display_name": "Python [conda root]",
   "language": "python",
   "name": "conda-root-py"
  },
  "language_info": {
   "codemirror_mode": {
    "name": "ipython",
    "version": 2
   },
   "file_extension": ".py",
   "mimetype": "text/x-python",
   "name": "python",
   "nbconvert_exporter": "python",
   "pygments_lexer": "ipython2",
   "version": "2.7.12"
  }
 },
 "nbformat": 4,
 "nbformat_minor": 2
}
